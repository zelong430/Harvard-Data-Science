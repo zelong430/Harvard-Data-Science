{
 "cells": [
  {
   "cell_type": "markdown",
   "metadata": {},
   "source": [
    "# CS 109A Data Science: Homework 2 (Prep)"
   ]
  },
  {
   "cell_type": "code",
   "execution_count": 42,
   "metadata": {
    "collapsed": false
   },
   "outputs": [],
   "source": [
    "import numpy as np\n",
    "import numpy.random as random\n",
    "import matplotlib\n",
    "import matplotlib.pyplot as plt\n",
    "import matplotlib.cm as cmx\n",
    "import matplotlib.colors as colors\n",
    "from mpl_toolkits.mplot3d import Axes3D\n",
    "from bs4 import BeautifulSoup\n",
    "import urllib\n",
    "\n",
    "#%matplotlib inline"
   ]
  },
  {
   "cell_type": "code",
   "execution_count": null,
   "metadata": {
    "collapsed": false
   },
   "outputs": [],
   "source": [
    "def test_data(N, fout):\n",
    "    K = 3\n",
    "\n",
    "    #plot the components\n",
    "    fig = plt.figure()\n",
    "    ax = fig.add_subplot(111, projection='3d')\n",
    "    \n",
    "    values = np.linspace(0, 1, K)\n",
    "    cm = plt.get_cmap('rainbow') \n",
    "    cNorm  = colors.Normalize(vmin=0, vmax=values[-1])\n",
    "    scalarMap = cmx.ScalarMappable(norm=cNorm, cmap=cm)\n",
    "    \n",
    "    x, y = np.random.multivariate_normal([5.3, 3.6], [[0.7, 0.5], [0.5, 0.6]], N-100).T \n",
    "    z = random.randint(12, 18, size=100)\n",
    "    ax.scatter(x, y, z, c=scalarMap.to_rgba(values[0]))\n",
    "    for i in range(len(x)):\n",
    "        fout.write(str(x[i]) + ',' + str(y[i]) + ',' + str(z[i]) + '\\n')    \n",
    "        \n",
    "    x, y = np.random.multivariate_normal([6.7, 4.0], [[0.7, 0.5], [0.5, 0.6]], N).T \n",
    "    z = random.randint(18, 35, size=200)\n",
    "    ax.scatter(x, y, z, c=scalarMap.to_rgba(values[1]))\n",
    "    for i in range(len(x)):\n",
    "        fout.write(str(x[i]) + ',' + str(y[i]) + ',' + str(z[i]) + '\\n') \n",
    "    \n",
    "    x, y = np.random.multivariate_normal([5.8, 3.8], [[0.7, 0.5], [0.5, 0.6]], N-100).T \n",
    "    z = random.randint(35, 50, size=100)\n",
    "    ax.scatter(x, y, z, c=scalarMap.to_rgba(values[2]))\n",
    "    for i in range(len(x)):\n",
    "        fout.write(str(x[i]) + ',' + str(y[i]) + ',' + str(z[i]) + '\\n') \n",
    "    ax.set_xlabel('weight')\n",
    "    ax.set_ylabel('length')\n",
    "    plt.title('test data')\n",
    "    plt.show()\n",
    "\n",
    "fout = open('dataset_HW0.txt', 'w')\n",
    "fout.write('birth_weight,femur_length,mother_age\\n')\n",
    "\n",
    "\n",
    "\n",
    "test_data(200, fout)\n",
    "fout.close()"
   ]
  },
  {
   "cell_type": "code",
   "execution_count": 49,
   "metadata": {
    "collapsed": false
   },
   "outputs": [
    {
     "name": "stdout",
     "output_type": "stream",
     "text": [
      "<listiterator object at 0x10b79ced0>\n",
      "ation About Project Gutenberg-tm electronic\r\n",
      "works.\r\n",
      "\r\n",
      "Professor Michael S. Hart is the originator of the Project Gutenberg-tm\r\n",
      "concept of a library of electronic works that could be freely shared\r\n",
      "with anyone.  For thirty years, he produced and distributed Project\r\n",
      "Gutenberg-tm eBooks with only a loose network of volunteer support.\r\n",
      "\r\n",
      "Project Gutenberg-tm eBooks are often created from several printed\r\n",
      "editions, all of which are confirmed as Public Domain in the U.S.\r\n",
      "unless a copyright notice is included.  Thus, we do not necessarily\r\n",
      "keep eBooks in compliance with any particular paper edition.\r\n",
      "\r\n",
      "Most people start at our Web site which has the main PG search facility:\r\n",
      "\r\n",
      "http://www.gutenberg.net\r\n",
      "\r\n",
      "This Web site includes information about Project Gutenberg-tm,\r\n",
      "including how to make donations to the Project Gutenberg Literary\r\n",
      "Archive Foundation, how to help produce our new eBooks, and how to\r\n",
      "subscribe to our email newsletter to hear about new eBooks.\r\n",
      "\r\n",
      "\r\n",
      "\r\n",
      "</pre>\n",
      " </body>\n",
      "</html>\n"
     ]
    }
   ],
   "source": [
    "\n",
    "r = urllib.urlopen('http://www.gutenberg.org/files/5200/5200-h/5200-h.htm').read()\n",
    "soup = BeautifulSoup(r, \"lxml\")\n",
    "print soup.head.children\n",
    "\n",
    "print soup.prettify()[-1000:-1]\n"
   ]
  },
  {
   "cell_type": "code",
   "execution_count": 50,
   "metadata": {
    "collapsed": false
   },
   "outputs": [
    {
     "name": "stdout",
     "output_type": "stream",
     "text": [
      "\n",
      "\n",
      "Metamorphosis by Franz Kafka\n",
      "\n",
      "\n",
      "\n",
      "\r\n",
      "\r\n",
      "The Project Gutenberg EBook of Metamorphosis, by Franz Kafka\r\n",
      "Translated by David Wyllie.\r\n",
      "\r\n",
      "This eBook is for the use of anyone anywhere at no cost and with\r\n",
      "almost no restrictions whatsoever.  You may copy it, give it away or\r\n",
      "re-use it under the terms of the Project Gutenberg License included\r\n",
      "with this eBook or online at www.gutenberg.net\r\n",
      "\r\n",
      "** This is a COPYRIGHTED Project Gutenberg eBook, Details Below **\r\n",
      "**     Please follow the copyright guidelines in this file.     **\r\n",
      "\r\n",
      "\r\n",
      "Title: Metamorphosis\r\n",
      "\r\n",
      "Author: Franz Kafka\r\n",
      "\r\n",
      "Translator: David Wyllie\r\n",
      "\r\n",
      "Release Date: August 16, 2005 [EBook #5200]\r\n",
      "First posted: May 13, 2002\r\n",
      "Last updated: May 20, 2012\r\n",
      "\r\n",
      "Language: English\r\n",
      "\r\n",
      "Character set encoding: ISO-8859-1\r\n",
      "\r\n",
      "*** START OF THIS PROJECT GUTENBERG EBOOK METAMORPHOSIS ***\r\n",
      "\r\n",
      "\r\n",
      "\r\n",
      "\r\n",
      "\r\n",
      "\r\n",
      "Copyright (C) 2002 by David Wyllie.\r\n",
      "\r\n",
      "\r\n",
      "\n",
      "\r\n",
      "  Metamorphosis\r\n",
      "  Franz Kafka\n",
      "Translated by David Wyllie\n",
      "I\n",
      "One morning, when Gregor Samsa woke from troubled dreams, he\n"
     ]
    }
   ],
   "source": [
    "#pars = soup.find_all('p')\n",
    "print soup.get_text()[0:1000]\n",
    "#print pars[0:5]\n",
    "#print pars[0].text\n",
    "\n",
    "    "
   ]
  },
  {
   "cell_type": "code",
   "execution_count": 51,
   "metadata": {
    "collapsed": false
   },
   "outputs": [
    {
     "name": "stdout",
     "output_type": "stream",
     "text": [
      "One morning, when Gregor Samsa woke from troubled dreams, he found himself transformed in his bed into a horrible vermin. He lay on his armour-like back, and if he lifted his head a little he could see his brown belly, slightly domed and divided by arches into stiff sections. The bedding was hardly able to cover it and seemed ready to slide off any moment. His many legs, pitifully thin compared with the size of the rest of him, waved about helplessly as he looked.\"What's happened to me?\" he thought. It wasn't a dream. His room, a proper human room although a little too small, lay peacefully between its four familiar walls. A collection of textile samples lay spread out on the table - Samsa was a travelling salesman - and above it there hung a picture that he had recently cut out of an illustrated magazine and housed in a nice, gilded frame. It showed a lady fitted out with a fur hat and fur boa who sat upright, raising a heavy fur muff that covered the whole of her lower arm towards the viewer.Gregor then turned to look out the window at the dull weather. Drops of rain could be heard hitting the pane, which made him feel quite sad. \"How about if I sleep a little bit longer and forget all this nonsense\", he thought, but that was something he was unable to do because he was used to sleeping on his right, and in his present state couldn't get into that position. However hard he threw himself onto his right, he always rolled back to where he was. He must have tried it a hundred times, shut his eyes so that he wouldn't have to look at the floundering legs, and only stopped when he began to feel a mild, dull pain there that he had never felt before.\"Oh, God\", he thought, \"what a strenuous career it is that I've chosen! Travelling day in and day out. Doing business like this takes much more effort than doing your own business at home, and on top of that there's the curse of travelling, worries about making train connections, bad and irregular food, contact with different people all the time so that you can never get to know anyone or become friendly with them. It can all go to Hell!\" He felt a slight itch up on his belly; pushed himself slowly up on his back towards the headboard so that he could lift his head better; found where the itch was, and saw that it was covered with lots of little white spots which he didn't know what to make of; and when he tried to feel the place with one of his legs he drew it quickly back because as soon as he touched it he was overcome by a cold shudder.He slid back into his former position. \"Getting up early all the time\", he thought, \"it makes you stupid. You've got to get enough sleep. Other travelling salesmen live a life of luxury. For instance, whenever I go back to the guest house during the morning to copy out the contract, these gentlemen are always still sitting there eating their breakfasts. I ought to just try that with my boss; I'd get kicked out on the spot. But who knows, maybe that would be the best thing for me. If I didn't have my parents to think about I'd have given in my notice a long time ago, I'd have gone up to the boss and told him just what I think, tell him everything I would, let him know just what I feel. He'd fall right off his desk! And it's a funny sort of business to be sitting up there at your desk, talking down at your subordinates from up there, especially when you have to go right up close because the boss is hard of hearing. Well, there's still some hope; once I've got the money together to pay off my parents' debt to him - another five or six years I suppose - that's definitely what I'll do. That's when I'll make the big change. First of all though, I've got to get up, my train leaves at five.\"And he looked over at the alarm clock, ticking on the chest of drawers. \"God in Heaven!\" he thought. It was half past six and the hands were quietly moving forwards, it was even later than half past, more like quarter to seven. Had the alarm clock not rung? He could see from the bed that it had been set for four o'clock as it should have been; it certainly must have rung. Yes, but was it possible to quietly sleep through that furniture-rattling noise? True, he had not slept peacefully, but probably all the more deeply because of that. What should he do now? The next train went at seven; if he were to catch that he would have to rush like mad and the collection of samples was still not packed, and he did not at all feel particularly fresh and lively. And even if he did catch the train he would not avoid his boss's anger as the office assistant would have been there to see the five o'clock train go, he would have put in his report about Gregor's not being there a long time ago. The office assistant was the boss's man, spineless, and with no understanding. What about if he reported sick? But that would be extremely strained and suspicious as in fifteen years of service Gregor had never once yet been ill. His boss would certainly come round with the doctor from the medical insurance company, accuse his parents of having a lazy son, and accept the doctor's recommendation not to make any claim as the doctor believed that no-one was ever ill but that many were workshy. And what's more, would he have been entirely wrong in this case? Gregor did in fact, apart from excessive sleepiness after sleeping for so long, feel completely well and even felt much hungrier than usual.He was still hurriedly thinking all this through, unable to decide to get out of the bed, when the clock struck quarter to seven. There was a cautious knock at the door near his head. \"Gregor\", somebody called - it was his mother - \"it's quarter to seven. Didn't you want to go somewhere?\" That gentle voice! Gregor was shocked when he heard his own voice answering, it could hardly be recognised as the voice he had had before. As if from deep inside him, there was a painful and uncontrollable squeaking mixed in with it, the words could be made out at first but then there was a sort of echo which made them unclear, leaving the hearer unsure whether he had heard properly or not. Gregor had wanted to give a full answer and explain everything, but in the circumstances contented himself with saying: \"Yes, mother, yes, thank-you, I'm getting up now.\" The change in Gregor's voice probably could not be noticed outside through the wooden door, as his mother was satisfied with this explanation and shuffled away. But this short conversation made the other members of the family aware that Gregor, against their expectations was still at home, and soon his father came knocking at one of the side doors, gently, but with his fist. \"Gregor, Gregor\", he called, \"what's wrong?\" And after a short while he called again with a warning deepness in his voice: \"Gregor! Gregor!\" At the other side door his sister came plaintively: \"Gregor? Aren't you well? Do you need anything?\" Gregor answered to both sides: \"I'm ready, now\", making an effort to remove all the strangeness from his voice by enunciating very carefully and putting long pauses between each, individual word. His father went back to his breakfast, but his sister whispered: \"Gregor, open the door, I beg of you.\" Gregor, however, had no thought of opening the door, and instead congratulated himself for his cautious habit, acquired from his travelling, of locking all doors at night even when he was at home.The first thing he wanted to do was to get up in peace without being disturbed, to get dressed, and most of all to have his breakfast. Only then would he consider what to do next, as he was well aware that he would not bring his thoughts to any sensible conclusions by lying in bed. He remembered that he had often felt a slight pain in bed, perhaps caused by lying awkwardly, but that had always turned out to be pure imagination and he wondered how his imaginings would slowly resolve themselves today. He did not have the slightest doubt that the change in his voice was nothing more than the first sign of a serious cold, which was an occupational hazard for travelling salesmen.It was a simple matter to throw off the covers; he only had to blow himself up a little and they fell off by themselves. But it became difficult after that, especially as he was so exceptionally broad. He would have used his arms and his hands to push himself up; but instead of them he only had all those little legs continuously moving in different directions, and which he was moreover unable to control. If he wanted to bend one of them, then that was the first one that would stretch itself out; and if he finally managed to do what he wanted with that leg, all the others seemed to be set free and would move about painfully. \"This is something that can't be done in bed\", Gregor said to himself, \"so don't keep trying to do it\".The first thing he wanted to do was get the lower part of his body out of the bed, but he had never seen this lower part, and could not imagine what it looked like; it turned out to be too hard to move; it went so slowly; and finally, almost in a frenzy, when he carelessly shoved himself forwards with all the force he could gather, he chose the wrong direction, hit hard against the lower bedpost, and learned from the burning pain he felt that the lower part of his body might well, at present, be the most sensitive.So then he tried to get the top part of his body out of the bed first, carefully turning his head to the side. This he managed quite easily, and despite its breadth and its weight, the bulk of his body eventually followed slowly in the direction of the head. But when he had at last got his head out of the bed and into the fresh air it occurred to him that if he let himself fall it would be a miracle if his head were not injured, so he became afraid to carry on pushing himself forward the same way. And he could not knock himself out now at any price; better to stay in bed than lose consciousness.It took just as much effort to get back to where he had been earlier, bu\n"
     ]
    }
   ],
   "source": [
    "text = []\n",
    "\n",
    "pars = soup.find_all('p')\n",
    "\n",
    "for par in pars:\n",
    "    text.append(par.string.lstrip(' \\n\\r\\t').replace('\\n', ' ').replace('\\r', '').replace('\\t', ''))\n",
    "\n",
    "text = ''.join(text)\n",
    "text = ' '.join(text.split())\n",
    "print text[:10000]"
   ]
  },
  {
   "cell_type": "code",
   "execution_count": 40,
   "metadata": {
    "collapsed": false
   },
   "outputs": [
    {
     "name": "stdout",
     "output_type": "stream",
     "text": [
      "One morning, when Gregor Samsa woke from troubled dreams, he found himself transformed in his bed into a horrible vermin\n",
      "\n",
      "\n",
      " He lay on his armour-like back, and if he lifted his head a little he could see his brown belly, slightly domed and divided by arches into stiff sections\n",
      "\n",
      "\n",
      " The bedding was hardly able to cover it and seemed ready to slide off any moment\n",
      "\n",
      "\n",
      " His many legs, pitifully thin compared with the size of the rest of him, waved about helplessly as he looked\n",
      "\n",
      "\n",
      "What's happened to me\n",
      "\n",
      "\n",
      " he thought\n",
      "\n",
      "\n",
      " It wasn't a dream\n",
      "\n",
      "\n",
      " His room, a proper human room although a little too small, lay peacefully between its four familiar walls\n",
      "\n",
      "\n",
      " A collection of textile samples lay spread out on the table - Samsa was a travelling salesman - and above it there hung a picture that he had recently cut out of an illustrated magazine and housed in a nice, gilded frame\n",
      "\n",
      "\n",
      " It showed a lady fitted out with a fur hat and fur boa who sat upright, raising a heavy fur muff that covered the whole of her lower arm towards the viewer\n",
      "\n",
      "\n",
      "Gregor then turned to look out the window at the dull weather\n",
      "\n",
      "\n",
      " Drops of rain could be heard hitting the pane, which made him feel quite sad\n",
      "\n",
      "\n",
      " How about if I sleep a little bit longer and forget all this nonsense, he thought, but that was something he was unable to do because he was used to sleeping on his right, and in his present state couldn't get into that position\n",
      "\n",
      "\n",
      " However hard he threw himself onto his right, he always rolled back to where he was\n",
      "\n",
      "\n",
      " He must have tried it a hundred times, shut his eyes so that he wouldn't have to look at the floundering legs, and only stopped when he began to feel a mild, dull pain there that he had never felt before\n",
      "\n",
      "\n",
      "Oh, God, he thought, what a strenuous career it is that I've chosen\n",
      "\n",
      "\n",
      " Travelling day in and day out\n",
      "\n",
      "\n",
      " Doing business like this takes much more effort than doing your own business at home, and on top of that there's the curse of travelling, worries about making train connections, bad and irregular food, contact with different people all the time so that you can never get to know anyone or become friendly with them\n",
      "\n",
      "\n",
      " It can all go to Hell\n",
      "\n",
      "\n",
      " He felt a slight itch up on his belly; pushed himself slowly up on his back towards the headboard so that he could lift his head better; found where the itch was, and saw that it was covered with lots of little white spots which he didn't know what to make of; and when he tried to feel the place with one of his legs he drew it quickly back because as soon as he touched it he was overcome by a cold shudder\n",
      "\n",
      "\n",
      "He slid back into his former position\n",
      "\n",
      "\n",
      " Getting up early all the time, he thought, it makes you stupid\n",
      "\n",
      "\n",
      " You've got to get enough sleep\n",
      "\n",
      "\n",
      " Other travelling salesmen live a life of luxury\n",
      "\n",
      "\n",
      " For instance, whenever I go back to the guest house during the morning to copy out the contract, these gentlemen are always still sitting there eating their breakfasts\n",
      "\n",
      "\n",
      " I ought to just try that with my boss; I'd get kicked out on the spot\n",
      "\n",
      "\n",
      " But who knows, maybe that would be the best thing for me\n",
      "\n",
      "\n",
      " If I didn't have my parents to think about I'd have given in my notice a long time ago, I'd have gone up to the boss and told him just what I think, tell him everything I would, let him know just what I feel\n",
      "\n",
      "\n",
      " He'd fall right off his desk\n",
      "\n",
      "\n",
      " And it's a funny sort of business to be sitting up there at your desk, talking down at your subordinates from up there, especially when you have to go right up close because the boss is hard of hearing\n",
      "\n",
      "\n",
      " Well, there's still some hope; once I've got the money together to pay off my parents' debt to him - another five or six years I suppose - that's definitely what I'll do\n",
      "\n",
      "\n",
      " That's when I'll make the big change\n",
      "\n",
      "\n",
      " First of all though, I've got to get up, my train leaves at five\n",
      "\n",
      "\n",
      "And he looked over at the alarm clock, ticking on the chest of drawers\n",
      "\n",
      "\n",
      " God in Heaven\n",
      "\n",
      "\n",
      " he thought\n",
      "\n",
      "\n",
      " It was half past six and the hands were quietly moving forwards, it was even later than half past, more like quarter to seven\n",
      "\n",
      "\n",
      " Had the alarm clock not rung\n",
      "\n",
      "\n",
      " He could see from the bed that it had been set for four o'clock as it should have been; it certainly must have rung\n",
      "\n",
      "\n",
      " Yes, but was it possible to quietly sleep through that furniture-rattling noise\n",
      "\n",
      "\n",
      "786\n",
      "785\n"
     ]
    }
   ],
   "source": [
    "text = text.replace('!\",', ',')\n",
    "text = text.replace('?\",', ',')\n",
    "text = text.replace('!\"', ',')\n",
    "text = text.replace('?\",', ',')\n",
    "text = text.replace('\\\\', '')\n",
    "text = text.replace('\"', '')\n",
    "text = text.replace('\\n', '')\n",
    "text = text.replace('!', '.')\n",
    "text = text.replace('?', '.')\n",
    "text = text.replace('\"', '')\n",
    "\n",
    "text = text.replace('Mrs.', 'Mrs')\n",
    "text = text.replace('Mr.', 'Mr')\n",
    "\n",
    "\n",
    "sentences = text.split('.')\n",
    "for i in range(40):\n",
    "    print sentences[i]\n",
    "    print '\\n'\n",
    "\n",
    "lengths = []\n",
    "for sen in sentences:\n",
    "    lengths.append(len(sen.split(' ')))\n",
    "print len(lengths)\n",
    "print text.count('.')"
   ]
  },
  {
   "cell_type": "code",
   "execution_count": 41,
   "metadata": {
    "collapsed": false
   },
   "outputs": [],
   "source": [
    "plt.hist(lengths, bins=40)\n",
    "plt.show()"
   ]
  },
  {
   "cell_type": "code",
   "execution_count": null,
   "metadata": {
    "collapsed": true
   },
   "outputs": [],
   "source": [
    "txt = ''"
   ]
  }
 ],
 "metadata": {
  "kernelspec": {
   "display_name": "Python 2",
   "language": "python",
   "name": "python2"
  },
  "language_info": {
   "codemirror_mode": {
    "name": "ipython",
    "version": 2
   },
   "file_extension": ".py",
   "mimetype": "text/x-python",
   "name": "python",
   "nbconvert_exporter": "python",
   "pygments_lexer": "ipython2",
   "version": "2.7.11"
  }
 },
 "nbformat": 4,
 "nbformat_minor": 0
}
